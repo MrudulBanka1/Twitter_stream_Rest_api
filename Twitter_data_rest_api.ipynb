{
 "cells": [
  {
   "cell_type": "markdown",
   "metadata": {},
   "source": [
    "\n",
    "The first step to obtain data is to set up the Twitter access from its developer platform with two methods:\n",
    "\n",
    "Obtaining Twitter API keys\n",
    "Connecting to the Twitter API\n",
    "There are two ways by which you can connect to the Twitter API:\n",
    "\n",
    "Streaming API\n",
    "REST API\n",
    "Streaming API gives access to real-time data, showing tweets as they are published (access to a sample of tweets).\n",
    "\n",
    "REST API allows to query historical tweets (generally up to about a week), based on multiple criteria.\n"
   ]
  },
  {
   "cell_type": "code",
   "execution_count": 1,
   "metadata": {},
   "outputs": [],
   "source": [
    "import requests\n",
    "import bs4\n",
    "from bs4 import BeautifulSoup\n",
    "from requests_oauthlib import OAuth1"
   ]
  },
  {
   "cell_type": "code",
   "execution_count": 4,
   "metadata": {},
   "outputs": [
    {
     "name": "stdout",
     "output_type": "stream",
     "text": [
      "Requirement already satisfied: requests in c:\\users\\mrudulbanka\\anaconda3\\lib\\site-packages (2.12.4)\n"
     ]
    },
    {
     "name": "stderr",
     "output_type": "stream",
     "text": [
      "You are using pip version 18.0, however version 19.0.3 is available.\n",
      "You should consider upgrading via the 'python -m pip install --upgrade pip' command.\n"
     ]
    }
   ],
   "source": [
    "import sys\n",
    "!{sys.executable} -m pip install requests"
   ]
  },
  {
   "cell_type": "code",
   "execution_count": 2,
   "metadata": {},
   "outputs": [],
   "source": [
    "import requests\n",
    "import bs4\n",
    "from bs4 import BeautifulSoup\n",
    "from requests_oauthlib import OAuth1"
   ]
  },
  {
   "cell_type": "code",
   "execution_count": 6,
   "metadata": {},
   "outputs": [
    {
     "name": "stdout",
     "output_type": "stream",
     "text": [
      "Requirement already satisfied: requests in c:\\users\\mrudulbanka\\anaconda3\\lib\\site-packages (2.12.4)\n",
      "Collecting requests_oauthlib\n",
      "  Downloading https://files.pythonhosted.org/packages/c2/e2/9fd03d55ffb70fe51f587f20bcf407a6927eb121de86928b34d162f0b1ac/requests_oauthlib-1.2.0-py2.py3-none-any.whl\n",
      "Collecting oauthlib>=3.0.0 (from requests_oauthlib)\n",
      "  Downloading https://files.pythonhosted.org/packages/16/95/699466b05b72b94a41f662dc9edf87fda4289e3602ecd42d27fcaddf7b56/oauthlib-3.0.1-py2.py3-none-any.whl (142kB)\n",
      "Installing collected packages: oauthlib, requests-oauthlib\n",
      "Successfully installed oauthlib-3.0.1 requests-oauthlib-1.2.0\n"
     ]
    },
    {
     "name": "stderr",
     "output_type": "stream",
     "text": [
      "You are using pip version 18.0, however version 19.0.3 is available.\n",
      "You should consider upgrading via the 'python -m pip install --upgrade pip' command.\n"
     ]
    }
   ],
   "source": [
    "import sys\n",
    "!{sys.executable} -m pip install requests requests_oauthlib"
   ]
  },
  {
   "cell_type": "code",
   "execution_count": 7,
   "metadata": {},
   "outputs": [
    {
     "name": "stdout",
     "output_type": "stream",
     "text": [
      "Collecting pip\n",
      "  Using cached https://files.pythonhosted.org/packages/d8/f3/413bab4ff08e1fc4828dfc59996d721917df8e8583ea85385d51125dceff/pip-19.0.3-py2.py3-none-any.whl\n",
      "Installing collected packages: pip\n",
      "  Found existing installation: pip 18.0\n",
      "    Uninstalling pip-18.0:\n",
      "      Successfully uninstalled pip-18.0\n",
      "Successfully installed pip-19.0.3\n"
     ]
    }
   ],
   "source": [
    "import sys\n",
    "!{sys.executable} -m pip install --upgrade pip"
   ]
  },
  {
   "cell_type": "code",
   "execution_count": 8,
   "metadata": {},
   "outputs": [],
   "source": [
    "import requests\n",
    "import bs4\n",
    "from bs4 import BeautifulSoup\n",
    "from requests_oauthlib import OAuth1"
   ]
  },
  {
   "cell_type": "code",
   "execution_count": 14,
   "metadata": {},
   "outputs": [],
   "source": [
    "auth_params = { #Use your credentials\n",
    "    'app_key':'xxxxxxxxxxxxxxxxxxxxx',\n",
    "    'app_secret':'xxxxxxxxxxxxxxxxxxxxxxxx',\n",
    "    'oauth_token':'xxxxxxxxxxxxxxxxxxxxxxxxxxxx',\n",
    "    'oauth_token_secret':'xxxxxxxxxxxxxxxxxxxxxxxxxxxxxxxxxxxxxxx'\n",
    "}\n",
    "\n",
    "# Creating an OAuth Client connection\n",
    "auth = OAuth1 (\n",
    "    auth_params['app_key'],\n",
    "    auth_params['app_secret'],\n",
    "    auth_params['oauth_token'],\n",
    "    auth_params['oauth_token_secret']\n",
    ")"
   ]
  },
  {
   "cell_type": "code",
   "execution_count": 25,
   "metadata": {},
   "outputs": [],
   "source": [
    "# url according to twitter API\n",
    "url_rest = \"https://api.twitter.com/1.1/search/tweets.json\"\n",
    "\n",
    "# getting rid of retweets in the extraction results and filtering all replies to the tweet often uncessary for the analysis\n",
    "q = 'ChampionsLeague' # Twitter handle of Amazon India\n",
    "\n",
    "# count : no of tweets to be retrieved per one call and parameters according to twitter API\n",
    "params = {'q': q, 'count': 100, 'lang': 'en',  'result_type': 'recent'}\n",
    "results = requests.get(url_rest, params=params, auth=auth)"
   ]
  },
  {
   "cell_type": "code",
   "execution_count": 26,
   "metadata": {
    "scrolled": true
   },
   "outputs": [
    {
     "name": "stdout",
     "output_type": "stream",
     "text": [
      "['RT @FutbolBible: 14 years ago today, Ronaldinho scored one of the filthiest goals I’ve ever witnessed. He makes it look so simple. 🇧🇷🔥 http…', 'RT @FutbolBible: 14 years ago today, Ronaldinho scored one of the filthiest goals I’ve ever witnessed. He makes it look so simple. 🇧🇷🔥 http…', 'RT @ChampionsLeague: We’ve seen lots of #UCL comebacks over the years.\\nWho were the first team to overcome a 2-0 home deficit?  \\n\\n@pepsi #F…', 'RT @ChampionsLeague: 🎁 Happy birthday, Roy Makaay!  🎉 🎉 🎉\\n\\n⏪ Two goals & an assist ... this classic performance from the Dutch forward = 🔥🔥…', 'RT @FutbolBible: 14 years ago today, Ronaldinho scored one of the filthiest goals I’ve ever witnessed. He makes it look so simple. 🇧🇷🔥 http…', 'RT @ChampionsLeague: Another shot on target 😉 Will Messi score against Lyon? ⚽ \\n\\n#ForTheLoveOfIt https://t.co/BCxY50lymk', 'RT @FutbolBible: 14 years ago today, Ronaldinho scored one of the filthiest goals I’ve ever witnessed. He makes it look so simple. 🇧🇷🔥 http…', 'RT @FutbolBible: 14 years ago today, Ronaldinho scored one of the filthiest goals I’ve ever witnessed. He makes it look so simple. 🇧🇷🔥 http…', 'RT @ChampionsLeague: ⚽️⚽️⚽️⚽️⚽️⚽️\\n\\nWhat a day for Bayern!\\n\\n#UCL https://t.co/hYwWHDOugq', 'RT @FutbolBible: 14 years ago today, Ronaldinho scored one of the filthiest goals I’ve ever witnessed. He makes it look so simple. 🇧🇷🔥 http…', 'RT @ChampionsLeague: Another shot on target 😉 Will Messi score against Lyon? ⚽ \\n\\n#ForTheLoveOfIt https://t.co/BCxY50lymk', '@Basti54843044 @ChampionsLeague @FCBayern Big Roy could strike', 'RT @FutbolBible: 14 years ago today, Ronaldinho scored one of the filthiest goals I’ve ever witnessed. He makes it look so simple. 🇧🇷🔥 http…', 'RT @FutbolBible: 14 years ago today, Ronaldinho scored one of the filthiest goals I’ve ever witnessed. He makes it look so simple. 🇧🇷🔥 http…', 'RT @DalaiLamaSoccer: https://t.co/aXb3GhtBFD or https://t.co/OLUUGJfRs5 this weeks show we talk #ChampionsLeague #VAR #MLS #USWNT Listen an…', 'RT @ChampionsLeague: 🎁 Happy birthday, Roy Makaay!  🎉 🎉 🎉\\n\\n⏪ Two goals & an assist ... this classic performance from the Dutch forward = 🔥🔥…', 'RT @ChampionsLeague: 🎁 Happy birthday, Roy Makaay!  🎉 🎉 🎉\\n\\n⏪ Two goals & an assist ... this classic performance from the Dutch forward = 🔥🔥…', \"RT @ChampionsLeague: ⚽️⚽️ tonight and he's only just turned 19.\\n\\nHow big a star is Juventus's Moise Kean going to be? https://t.co/9Qo9dtbn…\", 'RT @ChampionsLeague: ⚽️⚽️⚽️⚽️⚽️⚽️\\n\\nWhat a day for Bayern!\\n\\n#UCL https://t.co/hYwWHDOugq', 'RT @HotspurRelated: #thfc turn a corner following a negative blip by advancing into the @ChampionsLeague quarters and announcing dates for…', 'RT @ChampionsLeague: We’ve seen lots of #UCL comebacks over the years.\\nWho were the first team to overcome a 2-0 home deficit?  \\n\\n@pepsi #F…', 'RT @english4alu: @ChampionsLeague @FCBayern HAPPY BIRTHDAY SUPER MAKKAY', 'RT @FutbolBible: 14 years ago today, Ronaldinho scored one of the filthiest goals I’ve ever witnessed. He makes it look so simple. 🇧🇷🔥 http…', 'RT @HotspurRelated: #thfc turn a corner following a negative blip by advancing into the @ChampionsLeague quarters and announcing dates for…', 'RT @FutbolBible: 14 years ago today, Ronaldinho scored one of the filthiest goals I’ve ever witnessed. He makes it look so simple. 🇧🇷🔥 http…', 'RT @ChampionsLeague: 🎁 Happy birthday, Roy Makaay!  🎉 🎉 🎉\\n\\n⏪ Two goals & an assist ... this classic performance from the Dutch forward = 🔥🔥…', 'RT @FutbolBible: 14 years ago today, Ronaldinho scored one of the filthiest goals I’ve ever witnessed. He makes it look so simple. 🇧🇷🔥 http…', 'RT @ChampionsLeague: 🎁 Happy birthday, Roy Makaay!  🎉 🎉 🎉\\n\\n⏪ Two goals & an assist ... this classic performance from the Dutch forward = 🔥🔥…', '@prasanna_puda12 They are not conceding against Juve either!!! https://t.co/WyYSBwkblY', 'RT @ChampionsLeague: 🇧🇷 This moment of magic from Ronaldinho = 😱😱😱\\n\\n#UCL #FlashbackFriday @FCBarcelona https://t.co/DkO1IPD1Yb', 'RT @ChampionsLeague: We’ve seen lots of #UCL comebacks over the years.\\nWho were the first team to overcome a 2-0 home deficit?  \\n\\n@pepsi #F…', 'RT @ChampionsLeague: ⚽️⚽️⚽️⚽️⚽️⚽️\\n\\nWhat a day for Bayern!\\n\\n#UCL https://t.co/hYwWHDOugq', 'RT @ChampionsLeague: 🎁 Happy birthday, Roy Makaay!  🎉 🎉 🎉\\n\\n⏪ Two goals & an assist ... this classic performance from the Dutch forward = 🔥🔥…', 'RT @ChampionsLeague: Another shot on target 😉 Will Messi score against Lyon? ⚽ \\n\\n#ForTheLoveOfIt https://t.co/BCxY50lymk', 'RT @FutbolBible: 14 years ago today, Ronaldinho scored one of the filthiest goals I’ve ever witnessed. He makes it look so simple. 🇧🇷🔥 http…', 'RT @ClassicFootbaIl: 14 years ago today Ronaldinho scored this goal. Effortless 😍 https://t.co/eiNsxjQwQq', 'RT @FutbolBible: 14 years ago today, Ronaldinho scored one of the filthiest goals I’ve ever witnessed. He makes it look so simple. 🇧🇷🔥 http…', '@ChampionsLeague @FCBayern That was a wicked strike.   Caught that clean', 'RT @ChampionsLeague: 🎁 Happy birthday, Roy Makaay!  🎉 🎉 🎉\\n\\n⏪ Two goals & an assist ... this classic performance from the Dutch forward = 🔥🔥…', 'It’s halftime of the #ManchesterCity game, so why don’t you listen to @JackHind and I talk all the latest from the… https://t.co/br5ZqGhYIP', 'RT @FutbolBible: 14 years ago today, Ronaldinho scored one of the filthiest goals I’ve ever witnessed. He makes it look so simple. 🇧🇷🔥 http…', 'RT @ChampionsLeague: 🎁 Happy birthday, Roy Makaay!  🎉 🎉 🎉\\n\\n⏪ Two goals & an assist ... this classic performance from the Dutch forward = 🔥🔥…', 'RT @ChampionsLeague: 🎁 Happy birthday, Roy Makaay!  🎉 🎉 🎉\\n\\n⏪ Two goals & an assist ... this classic performance from the Dutch forward = 🔥🔥…', 'RT @FutbolBible: 14 years ago today, Ronaldinho scored one of the filthiest goals I’ve ever witnessed. He makes it look so simple. 🇧🇷🔥 http…', 'RT @FutbolBible: 14 years ago today, Ronaldinho scored one of the filthiest goals I’ve ever witnessed. He makes it look so simple. 🇧🇷🔥 http…', 'RT @FutbolBible: 14 years ago today, Ronaldinho scored one of the filthiest goals I’ve ever witnessed. He makes it look so simple. 🇧🇷🔥 http…', 'RT @WeAreMessi: #OnThisDay in 2011 🗓\\n\\n#Messi scored a brace while @FCBarcelona knocked @Arsenal out of the @ChampionsLeague to win 4-3 on a…', '@tamalemoses @ChampionsLeague Your analysis these days makes wonder mbu luck', 'RT @ChampionsLeague: 🎁 Happy birthday, Roy Makaay!  🎉 🎉 🎉\\n\\n⏪ Two goals & an assist ... this classic performance from the Dutch forward = 🔥🔥…', '@SpursOfficial And my @SpursOfficial will probably win the @ChampionsLeague.  Just wait....', 'RT @ChampionsLeague: 🎁 Happy birthday, Roy Makaay!  🎉 🎉 🎉\\n\\n⏪ Two goals & an assist ... this classic performance from the Dutch forward = 🔥🔥…', 'RT @ChampionsLeague: 🎁 Happy birthday, Roy Makaay!  🎉 🎉 🎉\\n\\n⏪ Two goals & an assist ... this classic performance from the Dutch forward = 🔥🔥…', '@ChampionsLeague @pepsi Man united', '@ChampionsLeague @pepsi Manchester United FC', '@ChampionsLeague @acmilan Can you hear the crowd roar!', 'RT @english4alu: @ChampionsLeague @FCBayern HAPPY BIRTHDAY SUPER MAKKAY', \"RT @ChampionsLeague: ⚽️⚽️ tonight and he's only just turned 19.\\n\\nHow big a star is Juventus's Moise Kean going to be? https://t.co/9Qo9dtbn…\", '@HotspurRelated @ChampionsLeague What are we doing man', 'RT @ChampionsLeague: 🎁 Happy birthday, Roy Makaay!  🎉 🎉 🎉\\n\\n⏪ Two goals & an assist ... this classic performance from the Dutch forward = 🔥🔥…', 'RT @FutbolBible: 14 years ago today, Ronaldinho scored one of the filthiest goals I’ve ever witnessed. He makes it look so simple. 🇧🇷🔥 http…', '@ChampionsLeague @juventusfcen Monstro', 'RT @FutbolBible: 14 years ago today, Ronaldinho scored one of the filthiest goals I’ve ever witnessed. He makes it look so simple. 🇧🇷🔥 http…', 'RT @ChampionsLeague: 🎁 Happy birthday, Roy Makaay!  🎉 🎉 🎉\\n\\n⏪ Two goals & an assist ... this classic performance from the Dutch forward = 🔥🔥…', 'RT @ChampionsLeague: 🎁 Happy birthday, Roy Makaay!  🎉 🎉 🎉\\n\\n⏪ Two goals & an assist ... this classic performance from the Dutch forward = 🔥🔥…', 'RT @alexisrsalcedo: Every soccer player knows how satisfying it is getting the ball off someone like this https://t.co/xPBPR4gcn4', '@badscooter @ChampionsLeague 11 years', 'RT @ChampionsLeague: We’ve seen lots of #UCL comebacks over the years.\\nWho were the first team to overcome a 2-0 home deficit?  \\n\\n@pepsi #F…', 'RT @ChampionsLeague: 🎁 Happy birthday, Roy Makaay!  🎉 🎉 🎉\\n\\n⏪ Two goals & an assist ... this classic performance from the Dutch forward = 🔥🔥…', '@Crixxboi We want Ajax or Porto @ChampionsLeague  please 👏', 'RT @sergioSaucing: Sort your referees @ChampionsLeague', '@ChrisSmalling @ManUtd @RomeluLukaku9 @MarcusRashford @ChampionsLeague Well done in defence.', '@ChampionsLeague @FCBayern @JorgeLCastroP old school', \"Good. We love complicated things and hey, if they're not complicated on their own, we complicate them, so these guy… https://t.co/VYCEw7xG0Q\", 'RT @ChampionsLeague: ⚽️⚽️⚽️⚽️⚽️⚽️\\n\\nWhat a day for Bayern!\\n\\n#UCL https://t.co/hYwWHDOugq', 'Le #GrosAppel by @BenjaminAmougou \\n#ChampionsLeague\\n\\n#LGE\\n#DreamFM99.7\\n#STandTheSIXproud', 'RT @FutbolBible: 14 years ago today, Ronaldinho scored one of the filthiest goals I’ve ever witnessed. He makes it look so simple. 🇧🇷🔥 http…', 'RT @ChampionsLeague: 🎁 Happy birthday, Roy Makaay!  🎉 🎉 🎉\\n\\n⏪ Two goals & an assist ... this classic performance from the Dutch forward = 🔥🔥…', 'RT @ChampionsLeague: 🎁 Happy birthday, Roy Makaay!  🎉 🎉 🎉\\n\\n⏪ Two goals & an assist ... this classic performance from the Dutch forward = 🔥🔥…', 'RT @ChampionsLeague: 🎁 Happy birthday, Roy Makaay!  🎉 🎉 🎉\\n\\n⏪ Two goals & an assist ... this classic performance from the Dutch forward = 🔥🔥…', \"@HotspurRelated @ChampionsLeague I'm angry because this happens too many times. Fail to kill a match off when on to… https://t.co/ZCH0HOikP0\", 'RT @BeWarmers: 14 years ago today, Ronaldinho scored one of the filthiest goals ever. \\n\\nHe makes it look so simple. 🇧🇷🔥 https://t.co/ENTEBh…', 'RT @photosofootball: 14 years ago today: Ronaldinho scored THAT goal against Chelsea 🤙🏾\\n\\n(via @ChampionsLeague) https://t.co/1lEOOneAd7', 'RT @ChampionsLeague: ⚽️⚽️⚽️⚽️⚽️⚽️\\n\\nWhat a day for Bayern!\\n\\n#UCL https://t.co/hYwWHDOugq', 'RT @ChampionsLeague: We’ve seen lots of #UCL comebacks over the years.\\nWho were the first team to overcome a 2-0 home deficit?  \\n\\n@pepsi #F…', 'Spurs are chockers from being title contenders to fighting for top four #ChampionsLeague spot🙄\\n#SSFootball https://t.co/JaF3c3LlVh', 'RT @BeWarmers: 14 years ago today, Ronaldinho scored one of the filthiest goals ever. \\n\\nHe makes it look so simple. 🇧🇷🔥 https://t.co/ENTEBh…', 'RT @ChampionsLeague: 🎁 Happy birthday, Roy Makaay!  🎉 🎉 🎉\\n\\n⏪ Two goals & an assist ... this classic performance from the Dutch forward = 🔥🔥…', \"RT @ChampionsLeague: ⚽️⚽️ tonight and he's only just turned 19.\\n\\nHow big a star is Juventus's Moise Kean going to be? https://t.co/9Qo9dtbn…\", 'RT @ChampionsLeague: 🎁 Happy birthday, Roy Makaay!  🎉 🎉 🎉\\n\\n⏪ Two goals & an assist ... this classic performance from the Dutch forward = 🔥🔥…', 'RT @english4alu: @ChampionsLeague @FCBayern HAPPY BIRTHDAY SUPER MAKKAY', 'RT @photosofootball: 14 years ago today: Ronaldinho scored THAT goal against Chelsea 🤙🏾\\n\\n(via @ChampionsLeague) https://t.co/1lEOOneAd7', 'RT @photosofootball: 14 years ago today: Ronaldinho scored THAT goal against Chelsea 🤙🏾\\n\\n(via @ChampionsLeague) https://t.co/1lEOOneAd7', 'RT @ChampionsLeague: Another shot on target 😉 Will Messi score against Lyon? ⚽ \\n\\n#ForTheLoveOfIt https://t.co/BCxY50lymk', 'RT @ChampionsLeague: 🎁 Happy birthday, Roy Makaay!  🎉 🎉 🎉\\n\\n⏪ Two goals & an assist ... this classic performance from the Dutch forward = 🔥🔥…', 'RT @ChampionsLeague: 🗓️ #OTD in 2017 😮😮😮\\n\\n⏰ 90+5 minutes \\n❗️ 5-5 on aggregate \\n🙏 Barcelona needing 1 goal \\n👏 Step up, Sergi Roberto...\\n\\n#UC…', 'RT @FutbolBible: 14 years ago today, Ronaldinho scored one of the filthiest goals I’ve ever witnessed. He makes it look so simple. 🇧🇷🔥 http…', '@ChampionsLeague @pepsi Manchester United', 'RT @ChampionsLeague: 🎁 Happy birthday, Roy Makaay!  🎉 🎉 🎉\\n\\n⏪ Two goals & an assist ... this classic performance from the Dutch forward = 🔥🔥…']\n"
     ]
    }
   ],
   "source": [
    "tweets = results.json()\n",
    "\n",
    "messages = [BeautifulSoup(tweet['text'], 'html5lib').get_text() for tweet in tweets['statuses']]\n",
    "print(messages)"
   ]
  },
  {
   "cell_type": "code",
   "execution_count": null,
   "metadata": {},
   "outputs": [],
   "source": []
  }
 ],
 "metadata": {
  "kernelspec": {
   "display_name": "Python 3",
   "language": "python",
   "name": "python3"
  },
  "language_info": {
   "codemirror_mode": {
    "name": "ipython",
    "version": 3
   },
   "file_extension": ".py",
   "mimetype": "text/x-python",
   "name": "python",
   "nbconvert_exporter": "python",
   "pygments_lexer": "ipython3",
   "version": "3.6.8"
  }
 },
 "nbformat": 4,
 "nbformat_minor": 2
}
