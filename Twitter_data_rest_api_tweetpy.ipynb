{
 "cells": [
  {
   "cell_type": "code",
   "execution_count": 2,
   "metadata": {},
   "outputs": [
    {
     "name": "stdout",
     "output_type": "stream",
     "text": [
      "Collecting tweepy\n",
      "  Downloading https://files.pythonhosted.org/packages/d5/5f/daac4b4e9b30d7d2a6fdd16a880ff79f27918fe388e4dfc1983dec3a9876/tweepy-3.7.0-py2.py3-none-any.whl\n",
      "Requirement already satisfied: six>=1.10.0 in c:\\users\\mrudulbanka\\anaconda3\\lib\\site-packages (from tweepy) (1.11.0)\n",
      "Requirement already satisfied: requests>=2.11.1 in c:\\users\\mrudulbanka\\anaconda3\\lib\\site-packages (from tweepy) (2.12.4)\n",
      "Requirement already satisfied: requests-oauthlib>=0.7.0 in c:\\users\\mrudulbanka\\anaconda3\\lib\\site-packages (from tweepy) (1.2.0)\n",
      "Requirement already satisfied: PySocks>=1.5.7 in c:\\users\\mrudulbanka\\anaconda3\\lib\\site-packages (from tweepy) (1.6.7)\n",
      "Requirement already satisfied: oauthlib>=3.0.0 in c:\\users\\mrudulbanka\\anaconda3\\lib\\site-packages (from requests-oauthlib>=0.7.0->tweepy) (3.0.1)\n",
      "Installing collected packages: tweepy\n",
      "Successfully installed tweepy-3.7.0\n"
     ]
    }
   ],
   "source": [
    "import sys\n",
    "!{sys.executable} -m pip install tweepy"
   ]
  },
  {
   "cell_type": "code",
   "execution_count": 3,
   "metadata": {},
   "outputs": [],
   "source": [
    "import tweepy \n",
    "# Fill the X's with the credentials   \n",
    "\n",
    "consumer_key = \"xxxxxxxxxxxxxxxxxxxxxxxxx\" \n",
    "consumer_secret = \"xxxxxxxxxxxxxxxxxxxxxxxx\"\n",
    "access_key = \"xxxxxxxxxxxxxxxxxxxxxxxxxxx\"\n",
    "access_secret = \"xxxxxxxxxxxxxxxxxxxxxxx\""
   ]
  },
  {
   "cell_type": "code",
   "execution_count": 4,
   "metadata": {},
   "outputs": [],
   "source": [
    "# Function to extract tweets \n",
    "def get_tweets(username): \n",
    "          \n",
    "        # Authorization to consumer key and consumer secret \n",
    "        auth = tweepy.OAuthHandler(consumer_key, consumer_secret) \n",
    "  \n",
    "        # Access to user's access key and access secret \n",
    "        auth.set_access_token(access_key, access_secret) \n",
    "  \n",
    "        # Calling api \n",
    "        api = tweepy.API(auth) \n",
    "  \n",
    "        # 200 tweets to be extracted \n",
    "        number_of_tweets=100\n",
    "        tweets = api.user_timeline(screen_name=username) \n",
    "  \n",
    "        # Empty Array \n",
    "        tmp=[]  \n",
    "  \n",
    "        # create array of tweet information: username,  \n",
    "        # tweet id, date/time, text \n",
    "        tweets_for_csv = [tweet.text for tweet in tweets] # CSV file created  \n",
    "        for j in tweets_for_csv: \n",
    "  \n",
    "            # Appending tweets to the empty array tmp \n",
    "            tmp.append(j)  \n",
    "  \n",
    "        # Printing the tweets \n",
    "        print(tmp) "
   ]
  },
  {
   "cell_type": "code",
   "execution_count": 5,
   "metadata": {},
   "outputs": [
    {
     "name": "stdout",
     "output_type": "stream",
     "text": [
      "[\"RT @FootballJOE: Congrats to Ole Gunnar Solskjaer - @ManUtd's first Manager of the Month since Sir Alex Ferguson 🙌 https://t.co/HxjyCs4D5v\", 'RT @utarlington: Congratulations to Dr. Dereje Agonafer, Jenkins Garrett Professor of mechanical engineering, on being elected to the prest…', \"RT @DataSciFact: 'With four parameters I can fit an elephant, and with five I can make him wiggle his trunk.' -- John von Neumann\", 'RT @rjraunac: 26 हज़ार ,570 हज़ार , करोड़ ? \\n\\n26,570,000,00000000 😳 \\n\\nआर्यभट्ट के आत्मा ख़ुद को कोड़े मार रही होगी 😂 https://t.co/2qyBohellY', 'RT @reeseoxner: The Bluebonnet Ballroom is at capacity, said Marti Harvey, University Democrats adviser. Student entry was prioritized over…', 'RT @FryRsquared: FFS 🤦\\u200d♀️ https://t.co/1pjYAzicGu', 'RT @fhuszar: Or: using a deep neural network where linear regression would suffice. https://t.co/byNqw79X14', 'RT @LAGalaxy: 🎮😱 It’s #FIFAFRIDAY!\\n\\nRT for your chance to win this custom @Ibra_official console! https://t.co/yZnGUs3FfR', '@aureliethiele Hey, I am eager to learn and understand results of your research. Looking forward to your talk!', 'RT @brfootball: 500! \\n\\nCongratulations, @Ibra_official! 👌 https://t.co/7FOFQntqB2', '@shrey2m @aks1593 😂', 'RT @LindsayTuten: anyone who doesn’t want their Nike stuff bc of kaepernick can just mail it to me, dm for address', 'RT @antgoldbloom: Proud that Kaggle passed 2MM registered users this morning! Thanks to our community for making Kaggle Kaggle.', '@VistaspKarbhari @utarlington 🤙', 'RT @chelllssseeea: why is this so funny to me https://t.co/fUDik7CTF5', 'RT @DiegoKuonen: The difference between Type I and Type II error:\\n\\n#Errors #TypeI #TypeII #Prediction #ML #AI #Supervised #Classification #…', 'RT @CoachHStewart: Players, not getting the playing time you want? Parents, coaches, friends...Listen... @kobebryant talks about the mental…', 'RT @shanselman: All this tech. LCDs, ARM processors, gigs of RAM, WiFi, VMs, just so I can avoid opening the fridge door? https://t.co/7hJD…', 'RT @joeywchou: Stanford CoreNLP – a suite of core NLP\\xa0tools https://t.co/WvIEYy7tm3', 'RT @KirkDBorne: Comprehensive Repository of #DataScience and #MachineLearning Resources, including “25 Great Articles About SQL and #NoSQL”…']\n"
     ]
    }
   ],
   "source": [
    "# Driver code \n",
    "if __name__ == '__main__': \n",
    "  \n",
    "    # Here goes the twitter handle for the user \n",
    "    # whose tweets are to be extracted. \n",
    "    get_tweets(\"MRYDUL\")  "
   ]
  },
  {
   "cell_type": "code",
   "execution_count": null,
   "metadata": {},
   "outputs": [],
   "source": []
  }
 ],
 "metadata": {
  "kernelspec": {
   "display_name": "Python 3",
   "language": "python",
   "name": "python3"
  },
  "language_info": {
   "codemirror_mode": {
    "name": "ipython",
    "version": 3
   },
   "file_extension": ".py",
   "mimetype": "text/x-python",
   "name": "python",
   "nbconvert_exporter": "python",
   "pygments_lexer": "ipython3",
   "version": "3.6.8"
  }
 },
 "nbformat": 4,
 "nbformat_minor": 2
}
